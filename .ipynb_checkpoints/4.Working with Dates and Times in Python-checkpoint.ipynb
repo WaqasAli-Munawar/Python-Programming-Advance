{
 "cells": [
  {
   "cell_type": "markdown",
   "metadata": {},
   "source": [
    "Many data include date/time information, including:\n",
    "\n",
    "- Weather data with dates and/or times.\n",
    "- Computer logs with the timestamp for each event.\n",
    "- Sales data with date/time range included."
   ]
  },
  {
   "cell_type": "markdown",
   "metadata": {},
   "source": [
    "Working with date/time data is often a lot more complex:\n",
    "\n",
    "* Where you have a compound date format, like January 1, 1901, separating each component value and converting it to its numeric form is cumbersome.\n",
    "\n",
    "* There are many different formats, e.g. 12-hour time versus 24-hour time.\n",
    "\n",
    "* Adding and subtracting across date/time boundaries isn't easy — for instance, if I wanted to add 1 hour 35 minutes to the time 32 minutes, we need to account for the fact that there are 60 minutes in an hour to be able to come up with the correct answer, 2 hours 7 minutes."
   ]
  },
  {
   "cell_type": "markdown",
   "metadata": {},
   "source": [
    "We are working with a data set of White House visitors.\n",
    "\n"
   ]
  },
  {
   "cell_type": "markdown",
   "metadata": {},
   "source": [
    "Here are descriptions of each column:\n",
    "\n",
    "* name: The name of the visitor.\n",
    "* appt_made_date: The date and time that the appointment was created.\n",
    "* appt_start_date: The date and time that the appointment was scheduled to start.\n",
    "* appt_end_date: The date and time that the appointment was scheduled to end.\n",
    "* visitee_namelast: The last name of the visitee (the person the visitor was meeting with).\n",
    "* visitee_namefirst: The first name of the visitee.\n",
    "* meeting_room: The room in which the appointment was scheduled.\n",
    "* description: Optional comments added by the WAVES (Workers and Visitors Entry System) operator."
   ]
  },
  {
   "cell_type": "code",
   "execution_count": 2,
   "metadata": {},
   "outputs": [],
   "source": [
    "from csv import reader\n",
    "\n",
    "potus = list(reader(open(\"potus_visitors_2015.csv\")))\n",
    "potus = potus[1:]\n"
   ]
  },
  {
   "cell_type": "markdown",
   "metadata": {},
   "source": [
    "we used the csv module to make reading CSV files easier. In Python, a module is simply a collection of variables, functions, and/or classes (which we'll collectively call 'definitions') that can be imported into a Python script"
   ]
  },
  {
   "cell_type": "markdown",
   "metadata": {},
   "source": [
    "The datetime.datetime class is the most commonly-used class from the datetime module, and has attributes and methods designed to work with data containing both the date and time\n",
    "\n",
    "The signature of the class is below (with some lesser used parameters omitted):\n",
    "\n",
    "datetime.datetime(year, month, day, hour=0, minute=0, second=0)\n",
    "\n",
    "The signature indicates that the year, month, and day arguments are required, and the time arguments are optional and set to the equivalent of midnight if omitted. The hour parameter is expressed in 24 hour time."
   ]
  },
  {
   "cell_type": "code",
   "execution_count": 3,
   "metadata": {},
   "outputs": [
    {
     "name": "stdout",
     "output_type": "stream",
     "text": [
      "1969-07-20 20:17:00\n"
     ]
    }
   ],
   "source": [
    "import datetime as dt # used alias here\n",
    "\n",
    "ibm_founded = dt.datetime(1911,6,16) # values are in integer\n",
    "man_on_moon =dt.datetime(1969,7,20,20,17) # Time is in 24 hours time format. its actually 8:20pm.\n",
    "print(man_on_moon)\n"
   ]
  },
  {
   "cell_type": "code",
   "execution_count": 4,
   "metadata": {},
   "outputs": [
    {
     "name": "stdout",
     "output_type": "stream",
     "text": [
      "12/18/15 16:30\n"
     ]
    }
   ],
   "source": [
    "print(potus[-1][2])"
   ]
  },
  {
   "cell_type": "code",
   "execution_count": 5,
   "metadata": {},
   "outputs": [],
   "source": [
    "date_format = \"%m/%d/%y %H:%M\"\n",
    "\n",
    "for i in potus:\n",
    "    start_date = i[2]\n",
    "    start_date = dt.datetime.strptime(start_date,date_format) # strptime parse/return the string in datetime object\n",
    "    i[2] = start_date"
   ]
  },
  {
   "cell_type": "markdown",
   "metadata": {},
   "source": [
    "The first argument of the datetime.strptime() (strptime is stirng parse time) constructor is the string we want to parse, and the second argument is a string that specifies the format."
   ]
  },
  {
   "cell_type": "code",
   "execution_count": 6,
   "metadata": {},
   "outputs": [
    {
     "name": "stdout",
     "output_type": "stream",
     "text": [
      "2015\n",
      "12\n",
      "18\n",
      "16\n",
      "0\n"
     ]
    }
   ],
   "source": [
    "print(potus[-1][2].year)\n",
    "print(potus[-1][2].month)\n",
    "print(potus[-1][2].day)\n",
    "print(potus[-1][2].hour)\n",
    "print(potus[-1][2].second)"
   ]
  },
  {
   "cell_type": "markdown",
   "metadata": {},
   "source": [
    "[datetime documentation](https://docs.python.org/3/library/datetime.html#strftime-strptime-behavior)\n",
    "\n",
    "* %d\tDay of the month as a zero-padded number1\t04\n",
    "* %A\tDay of the week as a word2\tMonday\n",
    "* %m\tMonth as a zero-padded number1\t09\n",
    "* %Y\tYear as a four-digit number\t1901\n",
    "* %y\tYear as a two-digit number with zero-padding1, 3\t01 (2001) 88 (1988)\n",
    "* %B\tMonth as a word2\tSeptember\n",
    "* %H\tHour in 24 hour time as zero-padded number1\t05 (5 a.m.) 15 (3 p.m.)\n",
    "* %p\ta.m. or p.m.2\tAM\n",
    "* %I\tHour in 12 hour time as zero-padded number1\t05 (5 a.m., or 5 p.m. if AM/PM indicates otherwise)\n",
    "* %M\tMinute as a zero-padded number1\t07"
   ]
  },
  {
   "cell_type": "markdown",
   "metadata": {},
   "source": [
    "The datetime class has a number of attributes which make it easy to retrieve the various parts that make up the date stored within the object:\n",
    "\n",
    "* datetime.day: The day of the month.\n",
    "* datetime.month: The month of the year.\n",
    "* datetime.year: The year.\n",
    "* datetime.hour: The hour of the day.\n",
    "* datetime.minute: The minute of the hour."
   ]
  },
  {
   "cell_type": "code",
   "execution_count": 7,
   "metadata": {},
   "outputs": [
    {
     "name": "stdout",
     "output_type": "stream",
     "text": [
      "December Friday 18, 2015\n",
      "Friday December 18 at 04:30 PM\n"
     ]
    }
   ],
   "source": [
    "print(potus[-1][2].strftime(\"%B %A %d, %Y\"))\n",
    "print(potus[-1][2].strftime(\"%A %B %d at %I:%M %p\"))"
   ]
  },
  {
   "cell_type": "code",
   "execution_count": 8,
   "metadata": {},
   "outputs": [
    {
     "data": {
      "text/plain": [
       "{'January, 2015': 1248,\n",
       " 'February, 2015': 2165,\n",
       " 'March, 2015': 2262,\n",
       " 'April, 2015': 4996,\n",
       " 'May, 2015': 3013,\n",
       " 'June, 2015': 7743,\n",
       " 'July, 2015': 2930,\n",
       " 'August, 2015': 1350,\n",
       " 'September, 2015': 4416,\n",
       " 'October, 2015': 3669,\n",
       " 'November, 2015': 1133,\n",
       " 'December, 2015': 13029}"
      ]
     },
     "execution_count": 8,
     "metadata": {},
     "output_type": "execute_result"
    }
   ],
   "source": [
    "# Analyzing the appointment dates \n",
    "\n",
    "visitors_per_month = {}\n",
    "\n",
    "for row in potus:\n",
    "    start_date = row[2]\n",
    "    start_date = dt.datetime.strftime(start_date, \"%B, %Y\") # strftime string format time\n",
    "    if start_date not in visitors_per_month:\n",
    "        visitors_per_month[start_date] = 1\n",
    "    else:\n",
    "        visitors_per_month[start_date] += 1\n",
    "\n",
    "visitors_per_month    "
   ]
  },
  {
   "cell_type": "markdown",
   "metadata": {},
   "source": [
    "# datetime.time class. \n",
    "\n",
    "Where the datetime class can hold values for dates and times, the time class holds only time data: hours, minutes, seconds, and microseconds.\n",
    "\n",
    "The syntax to instantiate a time object is as follows:\n",
    "\n",
    "datetime.time(hour=0, minute=0, second=0, microsecond=0)\n",
    "\n",
    "As the signature indicates, we can instantiate a time object without arguments and it will represent the time \"0:00:00\" (midnight). \n",
    "\n",
    "We can also create a time object from a datetime object, using the datetime.datetime.time(). The time class doesn't have a strptime() constructor, but if we need to parse times in string form, we can use datetime.strptime() and then convert directly to a time object:\n",
    "\n",
    "\n",
    "Example; a = dt.datetime(1963, 11, 22, 12, 30)\n",
    "\n",
    "print(a.time())"
   ]
  },
  {
   "cell_type": "code",
   "execution_count": 9,
   "metadata": {},
   "outputs": [],
   "source": [
    "# Analyzing presidential appointment times\n",
    "\n",
    "appt_times = []\n",
    "for row in potus:\n",
    "    start_date = row[2]\n",
    "    start_date = start_date.time()\n",
    "    appt_times.append(start_date)\n"
   ]
  },
  {
   "cell_type": "code",
   "execution_count": 10,
   "metadata": {},
   "outputs": [
    {
     "name": "stdout",
     "output_type": "stream",
     "text": [
      "06:00:00\n",
      "21:30:00\n"
     ]
    }
   ],
   "source": [
    "min_time = min(appt_times)\n",
    "max_time = max(appt_times)\n",
    "print(min_time)\n",
    "print(max_time)"
   ]
  },
  {
   "cell_type": "markdown",
   "metadata": {},
   "source": [
    "A useful feature of time objects is that they support comparisons(==,>,< etc). Thats is why we can calculate minimum and maximum value as well"
   ]
  },
  {
   "cell_type": "markdown",
   "metadata": {},
   "source": [
    "Just like time objects, datetime objects support comparison operators like > and < an so on."
   ]
  },
  {
   "cell_type": "markdown",
   "metadata": {},
   "source": [
    "# timedelta class\n",
    "\n",
    "we can create an object of the timedelta class using the - operator, but we can also instantiate a timedelta class directly. Let's The syntax used for this:\n",
    "\n",
    "datetime.timedelta(days=0, seconds=0, microseconds=0,\n",
    "                   milliseconds=0, minutes=0, hours=0, weeks=0)\n",
    "               \n",
    "The ordering of the parameters doesn't follow the order we might expect, and for this reason it can be clearer to use keyword arguments when instantiating objects if we are using anything other than days:"
   ]
  },
  {
   "cell_type": "code",
   "execution_count": 12,
   "metadata": {},
   "outputs": [
    {
     "data": {
      "text/plain": [
       "datetime.datetime(2001, 1, 1, 7, 24, 13)"
      ]
     },
     "execution_count": 12,
     "metadata": {},
     "output_type": "execute_result"
    }
   ],
   "source": [
    "# dt_1 = dt.date(1940,6,16)\n",
    "dt_1 = dt.datetime(1940,6,16)\n",
    "dt_2 = dt.datetime(1984, 6, 28)\n",
    "dt_3 = dt.datetime(2016, 5, 24)\n",
    "dt_4 = dt.datetime(2001, 1, 1, 8, 24, 13)\n",
    "\n",
    "answer1 = dt_2 - dt_1 # addtiton of datetime object will give error as it is not allowed\n",
    "\n",
    "answer2 = dt.timedelta(days = 56) + dt_3\n",
    "\n",
    "answer3 = dt_4 - dt.timedelta(seconds = 3600)\n",
    "answer3"
   ]
  },
  {
   "cell_type": "markdown",
   "metadata": {},
   "source": [
    "# Calculate the length of a meeting using the start and end times"
   ]
  },
  {
   "cell_type": "code",
   "execution_count": 13,
   "metadata": {},
   "outputs": [
    {
     "data": {
      "text/plain": [
       "datetime.timedelta(days=16, seconds=46740)"
      ]
     },
     "execution_count": 13,
     "metadata": {},
     "output_type": "execute_result"
    }
   ],
   "source": [
    "\n",
    "for row in potus:\n",
    "    start_date = row[2]\n",
    "    end_date = row[3]\n",
    "    end_date = dt.datetime.strptime(end_date,\"%m/%d/%y %H:%M\" )\n",
    "    row[3] = end_date\n",
    "    \n",
    "appt_lengths = {}\n",
    "\n",
    "for row in potus:\n",
    "    start_date = row[2]\n",
    "    end_date = row[3]\n",
    "    lenght = end_date - start_date\n",
    "    \n",
    "    if lenght in appt_lengths:\n",
    "        appt_lengths[lenght] += 1\n",
    "    else:\n",
    "        appt_lengths[lenght] = 1\n",
    "\n",
    "min_length = min(appt_lengths) # gives minimum key\n",
    "max_length = max(appt_lengths) # gives maximum key\n",
    "max_length"
   ]
  },
  {
   "cell_type": "code",
   "execution_count": 14,
   "metadata": {},
   "outputs": [
    {
     "name": "stdout",
     "output_type": "stream",
     "text": [
      "16 days, 12:59:00\n"
     ]
    }
   ],
   "source": [
    "appt_lengths = []\n",
    "\n",
    "for row in potus:\n",
    "    start_date = row[2]\n",
    "    end_date = row[3]\n",
    "    length = end_date - start_date\n",
    "    appt_lengths.append(length)\n",
    "\n",
    "min_length = min(appt_lengths)\n",
    "max_length = max(appt_lengths)\n",
    "print(max_length)\n",
    "total_lengths = sum(appt_lengths, dt.timedelta(0)) # by default sum() function add first value with o and o is integer, thats is why we converted into timedelta\n",
    "avg_length = total_lengths / len(appt_lengths)"
   ]
  },
  {
   "cell_type": "code",
   "execution_count": 33,
   "metadata": {},
   "outputs": [
    {
     "name": "stdout",
     "output_type": "stream",
     "text": [
      "0:00:00\n"
     ]
    }
   ],
   "source": [
    "print(dt.timedelta(0))\n"
   ]
  },
  {
   "cell_type": "code",
   "execution_count": null,
   "metadata": {},
   "outputs": [],
   "source": [
    "dt.datetime.fromtimestamp(13247000000) # convert integer to object based on their epoch time value 1st January, 1970"
   ]
  },
  {
   "cell_type": "code",
   "execution_count": null,
   "metadata": {},
   "outputs": [],
   "source": []
  },
  {
   "cell_type": "code",
   "execution_count": null,
   "metadata": {},
   "outputs": [],
   "source": []
  }
 ],
 "metadata": {
  "kernelspec": {
   "display_name": "Python 3",
   "language": "python",
   "name": "python3"
  },
  "language_info": {
   "codemirror_mode": {
    "name": "ipython",
    "version": 3
   },
   "file_extension": ".py",
   "mimetype": "text/x-python",
   "name": "python",
   "nbconvert_exporter": "python",
   "pygments_lexer": "ipython3",
   "version": "3.7.1"
  }
 },
 "nbformat": 4,
 "nbformat_minor": 2
}
