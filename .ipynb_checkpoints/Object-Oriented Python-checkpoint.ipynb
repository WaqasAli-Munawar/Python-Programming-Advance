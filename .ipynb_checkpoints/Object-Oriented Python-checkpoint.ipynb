{
 "cells": [
  {
   "cell_type": "markdown",
   "metadata": {},
   "source": [
    "we've learned a system of programming known as **Procedural Programming**. In its simplest definition, procedural programming involves writing code in a number of sequential steps — and sometimes we combine these steps into commands called **functions**"
   ]
  },
  {
   "cell_type": "markdown",
   "metadata": {},
   "source": [
    "# object-oriented programming (OOP)"
   ]
  },
  {
   "cell_type": "markdown",
   "metadata": {},
   "source": [
    "Rather than code being designed around sequential steps, it is instead defined around objects"
   ]
  },
  {
   "cell_type": "markdown",
   "metadata": {},
   "source": [
    "When working with data, it's much more common to use a style that is closer to procedural programming style than OOP, but it's very important to understand how OOP works, because Python is an object-oriented language."
   ]
  },
  {
   "cell_type": "markdown",
   "metadata": {},
   "source": [
    "In OOP, objects have types, but instead of \"type\" we use the word class. So far, we've been using the word \"type\" to describe different variables:\n",
    "\n",
    "* String type\n",
    "* List type\n",
    "* Dictionary type\n",
    "\n",
    "Technically, the correct name for each of these is:\n",
    "\n",
    "* String class\n",
    "* List class\n",
    "* Dictionary class"
   ]
  },
  {
   "cell_type": "markdown",
   "metadata": {},
   "source": [
    "we've been using classes for some time already:\n",
    "\n",
    "* Python lists are objects of the list class.\n",
    "* Python strings are objects of the str class.\n",
    "* Python dictionaries are objects of the dict class.\n"
   ]
  },
  {
   "cell_type": "markdown",
   "metadata": {},
   "source": [
    "we're going to learn how classes work by creating one of our own. We're going to create a simple class called NewList and recreate some of the basic functionality of the Python list class."
   ]
  },
  {
   "cell_type": "markdown",
   "metadata": {},
   "source": [
    "It's less common for data scientists and data analysts to define new types of objects, but understanding how objects work behind the scenes will be extremely valuable to you as you continue to extend your Python knowledge and work with objects more."
   ]
  },
  {
   "cell_type": "markdown",
   "metadata": {},
   "source": [
    "# Relationship between objects and classes.\n",
    "\n",
    "* An object is an entity that stores data.\n",
    "* An object's class defines specific properties objects of that class will have."
   ]
  },
  {
   "cell_type": "markdown",
   "metadata": {},
   "source": [
    "We define a class in a very similar way to how we define a function:"
   ]
  },
  {
   "cell_type": "code",
   "execution_count": 5,
   "metadata": {},
   "outputs": [],
   "source": [
    "class NewList(): # pascal case. Usually, we'd define a class without anything in the parentheses\n",
    "    pass # pass is a placehoder to avoid error"
   ]
  },
  {
   "cell_type": "markdown",
   "metadata": {},
   "source": [
    "In OOP, we use instance to describe each different object.\n",
    "\n",
    "We might create two Python strings, and they can hold different values, but they work the same way"
   ]
  },
  {
   "cell_type": "markdown",
   "metadata": {},
   "source": [
    "Once we have defined our class, we can create an object of that class, which is known as instantiation. If you create an object of a particular class, the technical phrase for what you did is to \"Instantiate an object of that class"
   ]
  },
  {
   "cell_type": "code",
   "execution_count": 3,
   "metadata": {},
   "outputs": [],
   "source": [
    "new_list_instance = NewList()"
   ]
  },
  {
   "cell_type": "markdown",
   "metadata": {},
   "source": [
    "Above single line of our code actually did two things:\n",
    "\n",
    "* Instantiated an object of the class NewList.\n",
    "* Assigned that instance to the variable named new_list_instance"
   ]
  },
  {
   "cell_type": "code",
   "execution_count": 4,
   "metadata": {},
   "outputs": [
    {
     "name": "stdout",
     "output_type": "stream",
     "text": [
      "<__main__.NewList object at 0x00000259B8278A58>\n"
     ]
    }
   ],
   "source": [
    "print(new_list_instance)"
   ]
  },
  {
   "cell_type": "markdown",
   "metadata": {},
   "source": [
    "In order to make our class do something, we need to define some methods. Methods allow objects to perform actions."
   ]
  },
  {
   "cell_type": "markdown",
   "metadata": {},
   "source": [
    "You can think of methods like special functions that belong to a particular class. Each class has its own set of methods."
   ]
  },
  {
   "cell_type": "markdown",
   "metadata": {},
   "source": [
    "The syntax for creating a method is almost identical to when we create a function, except it is indented within our class definition."
   ]
  },
  {
   "cell_type": "code",
   "execution_count": 16,
   "metadata": {},
   "outputs": [],
   "source": [
    "class NewList():\n",
    "    def firt_method(self):\n",
    "        return \"This is my first method\"\n",
    "\n",
    "newlist = NewList()\n"
   ]
  },
  {
   "cell_type": "code",
   "execution_count": 17,
   "metadata": {},
   "outputs": [
    {
     "data": {
      "text/plain": [
       "'This is my first method'"
      ]
     },
     "execution_count": 17,
     "metadata": {},
     "output_type": "execute_result"
    }
   ],
   "source": [
    "newlist.firt_method()"
   ]
  },
  {
   "cell_type": "code",
   "execution_count": 18,
   "metadata": {},
   "outputs": [
    {
     "name": "stdout",
     "output_type": "stream",
     "text": [
      "This is my first method\n"
     ]
    }
   ],
   "source": [
    "print(NewList.firt_method(newlist))"
   ]
  },
  {
   "cell_type": "code",
   "execution_count": 2,
   "metadata": {},
   "outputs": [],
   "source": [
    "class NewList():\n",
    "    def return_list(self,input_list):\n",
    "        return input_list\n",
    "\n",
    "newlist = NewList()\n",
    "result = newlist.return_list([1, 2, 3])"
   ]
  },
  {
   "cell_type": "markdown",
   "metadata": {},
   "source": [
    "The power of objects is in their ability to store data, and data is stored inside objects using attributes."
   ]
  },
  {
   "cell_type": "markdown",
   "metadata": {},
   "source": [
    "You can think of attributes like special variables that belong to a particular class. Attributes let us store specific values about each instance of our class"
   ]
  },
  {
   "cell_type": "markdown",
   "metadata": {},
   "source": [
    "When we instantiate an object, most of the time we specify the data that we want to store inside that object."
   ]
  },
  {
   "cell_type": "markdown",
   "metadata": {},
   "source": [
    "We define what is done with any arguments provided at instantiation using the init method."
   ]
  },
  {
   "cell_type": "markdown",
   "metadata": {},
   "source": [
    "The init method — also called a constructor — is a special method that runs when an instance is created so we can perform any tasks to set up the instance."
   ]
  },
  {
   "cell_type": "markdown",
   "metadata": {},
   "source": [
    "Like methods, attributes are accessed using dot notation, but attributes don't have parentheses like methods do."
   ]
  },
  {
   "cell_type": "code",
   "execution_count": 4,
   "metadata": {},
   "outputs": [
    {
     "name": "stdout",
     "output_type": "stream",
     "text": [
      "[1, 2, 3, 4, 5]\n"
     ]
    }
   ],
   "source": [
    "class NewList():\n",
    "    def __init__(self,initial_state):\n",
    "        self.data = initial_state\n",
    "        \n",
    "my_list = NewList([1, 2, 3, 4, 5])\n",
    "print(my_list.data)"
   ]
  },
  {
   "cell_type": "code",
   "execution_count": null,
   "metadata": {},
   "outputs": [],
   "source": []
  }
 ],
 "metadata": {
  "kernelspec": {
   "display_name": "Python 3",
   "language": "python",
   "name": "python3"
  },
  "language_info": {
   "codemirror_mode": {
    "name": "ipython",
    "version": 3
   },
   "file_extension": ".py",
   "mimetype": "text/x-python",
   "name": "python",
   "nbconvert_exporter": "python",
   "pygments_lexer": "ipython3",
   "version": "3.7.1"
  }
 },
 "nbformat": 4,
 "nbformat_minor": 2
}
