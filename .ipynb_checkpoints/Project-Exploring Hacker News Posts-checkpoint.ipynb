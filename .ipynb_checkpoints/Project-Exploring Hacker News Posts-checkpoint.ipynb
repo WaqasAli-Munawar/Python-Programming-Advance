{
 "cells": [
  {
   "cell_type": "markdown",
   "metadata": {},
   "source": [
    "In this project, we'll work with a data set of submissions to popular technology site [Hacker News](https://news.ycombinator.com/)."
   ]
  },
  {
   "cell_type": "markdown",
   "metadata": {},
   "source": [
    "Hacker News is a site started by the startup incubator [Y Combinator](https://www.ycombinator.com/), where user-submitted stories (known as \"posts\") are voted and commented upon, similar to reddit."
   ]
  },
  {
   "cell_type": "markdown",
   "metadata": {},
   "source": [
    "We can find the data set [here](https://www.kaggle.com/hacker-news/hacker-news-posts/downloads/hacker-news-posts.zip/1), but note that it has been reduced from almost 300,000 rows to approximately 20,000 rows by removing all submissions that did not receive any comments, and then randomly sampling from the remaining submissions. Below are descriptions of the columns:\n",
    "\n",
    "- `id`: The unique identifier from Hacker News for the post\n",
    "- `title`: The title of the post\n",
    "- `url`: The URL that the posts links to, if it the post has a URL\n",
    "- `num_points`: The number of points the post acquired, calculated as the total number of upvotes minus the total number of downvotes\n",
    "- `num_comments`: The number of comments that were made on the post\n",
    "- `author`: The username of the person who submitted the post\n",
    "- `created_at`: The date and time at which the post was submitted"
   ]
  },
  {
   "cell_type": "markdown",
   "metadata": {},
   "source": [
    "We're specifically interested in posts whose titles begin with either **Ask HN** or **Show HN**. Users submit Ask HN posts to ask the Hacker News community a specific question. Below are a couple examples:\n",
    "\n",
    "1. Ask HN: How to improve my personal website?\n",
    "2. Ask HN: Am I the only one outraged by Twitter shutting down share counts?\n",
    "3. Ask HN: Aby recent changes to CSS that broke mobile?"
   ]
  },
  {
   "cell_type": "markdown",
   "metadata": {},
   "source": [
    "Likewise, users submit `Show HN` posts to show the Hacker News community a project, product, or just generally something interesting. Below are a couple of examples:\n",
    "\n",
    "1. Show HN: Wio Link  ESP8266 Based Web of Things Hardware Development Platform'\n",
    "2. Show HN: Something pointless I made\n",
    "3. Show HN: Shanhu.io, a programming playground powered by e8vm\n"
   ]
  },
  {
   "cell_type": "markdown",
   "metadata": {},
   "source": [
    "We'll compare these two types of posts to determine the following:\n",
    "\n",
    "1. Do `Ask HN` or `Show HN` receive more comments on average?\n",
    "\n",
    "2. Do posts created at a certain time receive more comments on average?"
   ]
  },
  {
   "cell_type": "code",
   "execution_count": 7,
   "metadata": {},
   "outputs": [
    {
     "name": "stdout",
     "output_type": "stream",
     "text": [
      "20101\n"
     ]
    },
    {
     "data": {
      "text/plain": [
       "[['id', 'title', 'url', 'num_points', 'num_comments', 'author', 'created_at'],\n",
       " ['12224879',\n",
       "  'Interactive Dynamic Video',\n",
       "  'http://www.interactivedynamicvideo.com/',\n",
       "  '386',\n",
       "  '52',\n",
       "  'ne0phyte',\n",
       "  '8/4/2016 11:52'],\n",
       " ['10975351',\n",
       "  'How to Use Open Source and Shut the Fuck Up at the Same Time',\n",
       "  'http://hueniverse.com/2016/01/26/how-to-use-open-source-and-shut-the-fuck-up-at-the-same-time/',\n",
       "  '39',\n",
       "  '10',\n",
       "  'josep2',\n",
       "  '1/26/2016 19:30']]"
      ]
     },
     "execution_count": 7,
     "metadata": {},
     "output_type": "execute_result"
    }
   ],
   "source": [
    "from csv import reader\n",
    "\n",
    "hn = list(reader(open(\"hacker_news.csv\", encoding = \"utf-8\")))\n",
    "print(len(hn))\n",
    "hn[:3]"
   ]
  },
  {
   "cell_type": "code",
   "execution_count": 9,
   "metadata": {},
   "outputs": [
    {
     "name": "stdout",
     "output_type": "stream",
     "text": [
      "[['10975351', 'How to Use Open Source and Shut the Fuck Up at the Same Time', 'http://hueniverse.com/2016/01/26/how-to-use-open-source-and-shut-the-fuck-up-at-the-same-time/', '39', '10', 'josep2', '1/26/2016 19:30'], ['11964716', \"Florida DJs May Face Felony for April Fools' Water Joke\", 'http://www.thewire.com/entertainment/2013/04/florida-djs-april-fools-water-joke/63798/', '2', '1', 'vezycash', '6/23/2016 22:20'], ['11919867', 'Technology ventures: From Idea to Enterprise', 'https://www.amazon.com/Technology-Ventures-Enterprise-Thomas-Byers/dp/0073523429', '3', '1', 'hswarna', '6/17/2016 0:01']]\n"
     ]
    }
   ],
   "source": [
    "# Remove the headers.\n",
    "\n",
    "headers = hn[0]\n",
    "hn = hn[1:]\n",
    "print(hn[:3])"
   ]
  },
  {
   "cell_type": "markdown",
   "metadata": {},
   "source": [
    "# Extracting Ask HN and Show HN Posts\n",
    "\n",
    "First, we'll identify posts that begin with either `Ask HN` or `Show HN` and separate the data for those two types of posts into different lists. Separating the data makes it easier to analyze in the following steps"
   ]
  },
  {
   "cell_type": "code",
   "execution_count": 15,
   "metadata": {},
   "outputs": [
    {
     "name": "stdout",
     "output_type": "stream",
     "text": [
      "1744\n",
      "1162\n",
      "17193\n"
     ]
    }
   ],
   "source": [
    "ask_posts = []\n",
    "show_posts = [] \n",
    "other_posts = []\n",
    "\n",
    "for i in hn:\n",
    "    title = i[1]\n",
    "    if title.lower().startswith(\"ask hn\"):\n",
    "        ask_posts.append(i)\n",
    "    elif title.lower().startswith(\"show hn\"):\n",
    "        show_posts.append(i)\n",
    "    else:\n",
    "        other_posts.append(i)\n",
    "        \n",
    "print(len(ask_posts))\n",
    "print(len(show_posts))\n",
    "print(len(other_posts))"
   ]
  },
  {
   "cell_type": "markdown",
   "metadata": {},
   "source": [
    "# Calculating the Average Number of Comments for Ask HN and Show HN Posts\n",
    "\n",
    "Now that we separated ask posts and show posts into different lists, we'll calculate the average number of comments each type of post receives."
   ]
  },
  {
   "cell_type": "code",
   "execution_count": 22,
   "metadata": {},
   "outputs": [
    {
     "name": "stdout",
     "output_type": "stream",
     "text": [
      "14.038417431192661\n"
     ]
    }
   ],
   "source": [
    "# Calculate the average number of comments `Ask HN` posts receive.\n",
    "\n",
    "total_ask_comments = 0\n",
    "no_of_comments = 0\n",
    "\n",
    "for i in ask_posts:\n",
    "    no_of_comments += 1\n",
    "    num_comments = int(i[4])\n",
    "    total_ask_comments += num_comments\n",
    "    \n",
    "avg_ask_comments = total_ask_comments/no_of_comments\n",
    "\n",
    "print(avg_ask_comments)"
   ]
  },
  {
   "cell_type": "code",
   "execution_count": 23,
   "metadata": {},
   "outputs": [
    {
     "name": "stdout",
     "output_type": "stream",
     "text": [
      "10.31669535283993\n"
     ]
    }
   ],
   "source": [
    "total_show_comments = 0\n",
    "no_of_comments = 0\n",
    "\n",
    "for i in show_posts:\n",
    "    no_of_comments += 1\n",
    "    num_comments = int(i[4])\n",
    "    total_show_comments += num_comments\n",
    "    \n",
    "avg_show_comments = total_show_comments/no_of_comments\n",
    "print(avg_show_comments)"
   ]
  },
  {
   "cell_type": "markdown",
   "metadata": {},
   "source": [
    "# Finding the Amount of Ask Posts and Comments by Hour Created\n",
    "\n",
    "Next, we'll determine if we can maximize the amount of comments an ask post receives by creating it at a certain time. First, we'll find the amount of ask posts created during each hour of day, along with the number of comments those posts received. Then, we'll calculate the average amount of comments ask posts created at each hour of the day receive."
   ]
  },
  {
   "cell_type": "code",
   "execution_count": 69,
   "metadata": {},
   "outputs": [
    {
     "name": "stdout",
     "output_type": "stream",
     "text": [
      "{9: 251, 13: 1253, 10: 793, 14: 1416, 16: 1814, 23: 543, 12: 687, 17: 1146, 15: 4477, 21: 1745, 20: 1722, 2: 1381, 18: 1439, 3: 421, 5: 464, 19: 1188, 1: 683, 22: 479, 8: 492, 4: 337, 0: 447, 6: 397, 7: 267, 11: 641}\n",
      "{9: 45, 13: 85, 10: 59, 14: 107, 16: 108, 23: 68, 12: 73, 17: 100, 15: 116, 21: 109, 20: 80, 2: 58, 18: 109, 3: 54, 5: 46, 19: 110, 1: 60, 22: 71, 8: 48, 4: 47, 0: 55, 6: 44, 7: 34, 11: 58}\n"
     ]
    }
   ],
   "source": [
    "# Calculate the amount of ask posts created during each hour of day and the number of comments received.\n",
    "\n",
    "import datetime as dt\n",
    "\n",
    "result_list = []\n",
    "\n",
    "for i in ask_posts:\n",
    "    num_comments = int(i[4])\n",
    "    created_at = i[-1]\n",
    "    created_at = dt.datetime.strptime(created_at, \"%m/%d/%Y %H:%M\")\n",
    "    result_list.append([created_at,num_comments])\n",
    "    \n",
    "counts_by_hour = {}   \n",
    "comments_by_hour = {}\n",
    "\n",
    "for i in result_list:\n",
    "    date = i[0]\n",
    "    comment = i[1]\n",
    "    hour = date.hour\n",
    "    if hour in counts_by_hour:\n",
    "        counts_by_hour[hour] +=1\n",
    "        comments_by_hour[hour] += comment\n",
    "    else:\n",
    "        counts_by_hour[hour] = 1\n",
    "        comments_by_hour[hour] = comment\n",
    "\n",
    "\n",
    "print(comments_by_hour)\n",
    "print(counts_by_hour)\n"
   ]
  },
  {
   "cell_type": "markdown",
   "metadata": {},
   "source": [
    "# Below is an alternate way of above dictionaries"
   ]
  },
  {
   "cell_type": "code",
   "execution_count": 70,
   "metadata": {},
   "outputs": [],
   "source": [
    "# counts_by_hour = {}   \n",
    "# comments_by_hour = {}\n",
    "\n",
    "# for i in ask_posts:\n",
    "#     num_comments = int(i[4])\n",
    "#     created_at = i[-1]\n",
    "#     created_at = dt.datetime.strptime(created_at, \"%m/%d/%Y %H:%M\")\n",
    "#     hour = created_at.strftime(\"%H\")\n",
    "#     if hour in counts_by_hour:\n",
    "#         counts_by_hour[hour] += 1\n",
    "#         comments_by_hour[hour] += num_comments\n",
    "#     else:\n",
    "#         counts_by_hour[hour] = 1\n",
    "#         comments_by_hour[hour] = num_comments\n",
    "        \n",
    "# print(comments_by_hour)"
   ]
  },
  {
   "cell_type": "markdown",
   "metadata": {},
   "source": [
    "# Calculating the Average Number of Comments for Ask HN Posts by Hour"
   ]
  },
  {
   "cell_type": "code",
   "execution_count": 71,
   "metadata": {},
   "outputs": [
    {
     "data": {
      "text/plain": [
       "[[9, 5.58],\n",
       " [13, 14.74],\n",
       " [10, 13.44],\n",
       " [14, 13.23],\n",
       " [16, 16.8],\n",
       " [23, 7.99],\n",
       " [12, 9.41],\n",
       " [17, 11.46],\n",
       " [15, 38.59],\n",
       " [21, 16.01],\n",
       " [20, 21.52],\n",
       " [2, 23.81],\n",
       " [18, 13.2],\n",
       " [3, 7.8],\n",
       " [5, 10.09],\n",
       " [19, 10.8],\n",
       " [1, 11.38],\n",
       " [22, 6.75],\n",
       " [8, 10.25],\n",
       " [4, 7.17],\n",
       " [0, 8.13],\n",
       " [6, 9.02],\n",
       " [7, 7.85],\n",
       " [11, 11.05]]"
      ]
     },
     "execution_count": 71,
     "metadata": {},
     "output_type": "execute_result"
    }
   ],
   "source": [
    "# Calculate the average amount of comments `Ask HN` posts created at each hour of the day receive.\n",
    "avg_by_hour = []\n",
    "\n",
    "for key in counts_by_hour:\n",
    "    no_post_by_hour = counts_by_hour[key]\n",
    "    no_comm_by_hour = comments_by_hour[key]\n",
    "    avg_comments_per_post = round(no_comm_by_hour/no_post_by_hour, ndigits=2)\n",
    "    avg_by_hour.append([key,avg_comments_per_post])\n",
    "    \n",
    "    \n",
    "avg_by_hour   \n",
    "   "
   ]
  },
  {
   "cell_type": "markdown",
   "metadata": {},
   "source": [
    "# Sorting and Printing Values from a List of Lists"
   ]
  },
  {
   "cell_type": "code",
   "execution_count": 73,
   "metadata": {},
   "outputs": [
    {
     "data": {
      "text/plain": [
       "[[15, 38.59],\n",
       " [2, 23.81],\n",
       " [20, 21.52],\n",
       " [16, 16.8],\n",
       " [21, 16.01],\n",
       " [13, 14.74],\n",
       " [10, 13.44],\n",
       " [14, 13.23],\n",
       " [18, 13.2],\n",
       " [17, 11.46],\n",
       " [1, 11.38],\n",
       " [11, 11.05],\n",
       " [19, 10.8],\n",
       " [8, 10.25],\n",
       " [5, 10.09],\n",
       " [12, 9.41],\n",
       " [6, 9.02],\n",
       " [0, 8.13],\n",
       " [23, 7.99],\n",
       " [7, 7.85],\n",
       " [3, 7.8],\n",
       " [4, 7.17],\n",
       " [22, 6.75],\n",
       " [9, 5.58]]"
      ]
     },
     "execution_count": 73,
     "metadata": {},
     "output_type": "execute_result"
    }
   ],
   "source": [
    "sorted_swap = sorted(avg_by_hour, key = lambda x: x[1], reverse= True)\n",
    "sorted_swap"
   ]
  },
  {
   "cell_type": "code",
   "execution_count": 104,
   "metadata": {},
   "outputs": [
    {
     "name": "stdout",
     "output_type": "stream",
     "text": [
      "Top 5 Hours for Ask Posts Comments:\n",
      "15:00: 38.59 average comments per post\n",
      "02:00: 23.81 average comments per post\n",
      "20:00: 21.52 average comments per post\n",
      "16:00: 16.80 average comments per post\n",
      "21:00: 16.01 average comments per post\n"
     ]
    }
   ],
   "source": [
    "# Sort the values and print the the 5 hours with the highest average comments.\n",
    "\n",
    "print(\"Top 5 Hours for Ask Posts Comments:\")\n",
    "\n",
    "for hours, avg in sorted_swap[0:5]:\n",
    "    hour = dt.datetime.strptime(str(hours),\"%H\").strftime(\"%H:%M\")\n",
    "    average = avg\n",
    "    print(\"{}: {:,.2f} average comments per post\".format(hour,average)) # (: show strat of the format.comma(,) shows , at thousand value..2f shows 2 digit decimal value )\n",
    "    "
   ]
  },
  {
   "cell_type": "markdown",
   "metadata": {},
   "source": [
    "The hour that receives the most comments per post on average is 15:00, with an average of 38.59 comments per post. There's about a 60% increase in the number of comments between the hours with the highest and second highest average number of comments.\n",
    "\n",
    "According to the data set documentation, the timezone used is Eastern Time in the US. So, we could also write 15:00 as 3:00 pm est.\n",
    "\n",
    "# Conclusion\n",
    "In this project, we analyzed ask posts and show posts to determine which type of post and time receive the most comments on average. Based on our analysis, to maximize the amount of comments a post receives, we'd recommend the post be categorized as **ask post** and created between 15:00 and 16:00 (3:00 pm est - 4:00 pm est).\n",
    "\n",
    "However, it should be noted that the data set we analyzed excluded posts without any comments. Given that, it's more accurate to say that of the posts that received comments, **ask posts** received more comments on average and **ask posts** created between 15:00 and 16:00 (3:00 pm est - 4:00 pm est) received the most comments on average."
   ]
  },
  {
   "cell_type": "code",
   "execution_count": null,
   "metadata": {},
   "outputs": [],
   "source": []
  }
 ],
 "metadata": {
  "kernelspec": {
   "display_name": "Python 3",
   "language": "python",
   "name": "python3"
  },
  "language_info": {
   "codemirror_mode": {
    "name": "ipython",
    "version": 3
   },
   "file_extension": ".py",
   "mimetype": "text/x-python",
   "name": "python",
   "nbconvert_exporter": "python",
   "pygments_lexer": "ipython3",
   "version": "3.7.6"
  }
 },
 "nbformat": 4,
 "nbformat_minor": 2
}
