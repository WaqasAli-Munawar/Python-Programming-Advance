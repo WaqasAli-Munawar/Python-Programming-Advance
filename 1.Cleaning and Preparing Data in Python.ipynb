{
 "cells": [
  {
   "cell_type": "markdown",
   "metadata": {},
   "source": [
    "Data with a consistent format is often described as \"clean.\" As data scientists, not all data we encounter is clean; we often we need to prepare it in a process called **data cleaning**."
   ]
  },
  {
   "cell_type": "markdown",
   "metadata": {},
   "source": [
    "We going to work with data about the art in the Museum of Modern Art (MoMA). MoMA, a museum in New York City, has one of the largest collections of modern art in the world."
   ]
  },
  {
   "cell_type": "markdown",
   "metadata": {},
   "source": [
    "# Data dictionary for the MoMA\n",
    "\n",
    "* Title: The title of the artwork.\n",
    "* Artist: The name of the artist who created the artwork.\n",
    "* Nationality: The nationality of the artist.\n",
    "* BeginDate: The year in which the artist was born.\n",
    "* EndDate: The year in which the artist died.\n",
    "* Gender: The gender of the artist.\n",
    "* Date: The date that the artwork was created.\n",
    "* Department: The department inside MoMA to which the artwork belongs."
   ]
  },
  {
   "cell_type": "code",
   "execution_count": 5,
   "metadata": {},
   "outputs": [],
   "source": [
    "from csv import reader\n",
    "\n",
    "opened_file = open(\"artworks.csv\", encoding = \"utf-8\")\n",
    "read_file = reader(opened_file)\n",
    "moma = list(read_file)\n",
    "moma_header = moma[0]\n",
    "moma = moma[1:]\n"
   ]
  },
  {
   "cell_type": "markdown",
   "metadata": {},
   "source": [
    "Often when we're cleaning data, we need to replace parts of strings so our data is consistent.\n",
    "\n",
    "For example, let's say we have the string \"red is my favorite color\", but we want to change it to \"blue is my favorite color\". To do that, we want to replace the \"red\" part of the string with \"blue\". When we want to refer to part of a string, we use the term substring."
   ]
  },
  {
   "cell_type": "markdown",
   "metadata": {},
   "source": [
    "* Parts of strings are called substrings.\n",
    "* We can use the str.replace() method to find and replace substrings.\n",
    "* str.replace() requires two arguments:\n",
    "  * old: The substring we want to find and replace.\n",
    "  * new: The substring we want to replace old with.\n",
    "* When we use str.replace(), we substitute the str for the variable name of the string we want to modify.\n",
    "* We need to use = to assign the modified string to a variable name."
   ]
  },
  {
   "cell_type": "code",
   "execution_count": 3,
   "metadata": {},
   "outputs": [],
   "source": [
    "# for learning purpose just consider below example of replacing value\n",
    "age1 = \"I am thirty-one years old\" \n",
    "\n",
    "age2 = age1.replace(\"thirty-one\", \"thirty-two\")\n"
   ]
  },
  {
   "cell_type": "markdown",
   "metadata": {},
   "source": [
    "# Cleaning Nationality and Gender"
   ]
  },
  {
   "cell_type": "code",
   "execution_count": 3,
   "metadata": {},
   "outputs": [],
   "source": [
    "for item in moma:\n",
    "    nationality = item[2]\n",
    "    nationality = nationality.replace(\"(\", \"\")\n",
    "    nationality = nationality.replace(\")\", \"\")\n",
    "    item[2] = nationality\n",
    "    \n",
    "    gender = item[5]\n",
    "    gender = gender.replace(\"(\", \"\")\n",
    "    gender = gender.replace(\")\", \"\")\n",
    "    item[5] = gender\n",
    "    \n",
    "   "
   ]
  },
  {
   "cell_type": "code",
   "execution_count": 6,
   "metadata": {},
   "outputs": [],
   "source": [
    "# replacing empty sting\n",
    "for item in moma:\n",
    "    gender = item[5]\n",
    "    gender = gender.title()\n",
    "    if gender == \"\":\n",
    "        gender = gender.replace(\"\", \"Gender Unknown/Other\")\n",
    "    item[5] = gender\n",
    "    \n",
    "    nationality = item[2]\n",
    "    nationality = nationality.title()\n",
    "    if nationality == \"\":\n",
    "        nationality = nationality.replace(\"\",\"Nationality Unknown\")\n",
    "    item[2] = nationality\n",
    "    \n"
   ]
  },
  {
   "cell_type": "markdown",
   "metadata": {},
   "source": [
    "# Cleaning begin and end dates"
   ]
  },
  {
   "cell_type": "code",
   "execution_count": 5,
   "metadata": {},
   "outputs": [],
   "source": [
    "def clean_and_convert(date):\n",
    "    if date != \"\":\n",
    "        date = date.replace(\"(\",\"\")\n",
    "        date = date.replace(\")\",\"\")\n",
    "        date = int(date)\n",
    "    return date"
   ]
  },
  {
   "cell_type": "code",
   "execution_count": 6,
   "metadata": {},
   "outputs": [],
   "source": [
    "for item in moma:\n",
    "    birth_date = item[3]\n",
    "    death_date = item[4]\n",
    "    \n",
    "    birth_date = clean_and_convert(birth_date)\n",
    "    death_date = clean_and_convert(death_date)\n",
    "    \n",
    "    item[3] = birth_date\n",
    "    item[4] = death_date\n",
    "    \n"
   ]
  },
  {
   "cell_type": "markdown",
   "metadata": {},
   "source": [
    "# Cleaning Date column"
   ]
  },
  {
   "cell_type": "code",
   "execution_count": 7,
   "metadata": {},
   "outputs": [],
   "source": [
    "dates = []\n",
    "\n",
    "for item in moma:\n",
    "    date = item[6]\n",
    "    dates.append(date)\n"
   ]
  },
  {
   "cell_type": "code",
   "execution_count": 8,
   "metadata": {},
   "outputs": [],
   "source": [
    "test_data = [\"1912\", \"1929\", \"1913-1923\",\n",
    "             \"(1951)\", \"1994\", \"1934\",\n",
    "             \"c. 1915\", \"1995\", \"c. 1912\",\n",
    "             \"(1988)\", \"2002\", \"1957-1959\",\n",
    "             \"c. 1955.\", \"c. 1970's\", \n",
    "             \"C. 1990-1999\"]\n",
    "\n",
    "bad_chars = [\"(\",\")\",\"c\",\"C\",\".\",\"s\",\"'\", \" \"]"
   ]
  },
  {
   "cell_type": "code",
   "execution_count": 9,
   "metadata": {},
   "outputs": [],
   "source": [
    "def strip_characters(string):\n",
    "    for char in bad_chars:\n",
    "        string = string.replace(char,\"\")\n",
    "    return string\n",
    "        "
   ]
  },
  {
   "cell_type": "code",
   "execution_count": 10,
   "metadata": {},
   "outputs": [],
   "source": [
    "for item in moma:\n",
    "    date = item[6]\n",
    "    date = strip_characters(date)\n",
    "    item[6] = date\n",
    "\n"
   ]
  },
  {
   "cell_type": "code",
   "execution_count": 11,
   "metadata": {},
   "outputs": [],
   "source": [
    "def process_date(string):\n",
    "    if \"-\" in string:\n",
    "        string = string.split(\"-\")\n",
    "        frst_indx = int(string[0])\n",
    "        sec_indx = int(string[1])\n",
    "        avg_value = round((frst_indx+sec_indx)/2)\n",
    "        string = avg_value\n",
    "    else:\n",
    "        string = int(string)\n",
    "    return string"
   ]
  },
  {
   "cell_type": "code",
   "execution_count": 12,
   "metadata": {},
   "outputs": [],
   "source": [
    "for item in moma:\n",
    "    date = item[6]\n",
    "    date = strip_characters(date)\n",
    "    date = process_date(date)\n",
    "    item[6] = date\n",
    "    \n"
   ]
  },
  {
   "cell_type": "code",
   "execution_count": 13,
   "metadata": {},
   "outputs": [
    {
     "data": {
      "text/plain": [
       "[['Dress MacLeod from Tartan Sets',\n",
       "  'Sarah Charlesworth',\n",
       "  'American',\n",
       "  1947,\n",
       "  2013,\n",
       "  'Female',\n",
       "  1986,\n",
       "  'Prints & Illustrated Books'],\n",
       " ['Duplicate of plate from folio 11 verso (supplementary suite, plate 4) from ARDICIA',\n",
       "  'Pablo Palazuelo',\n",
       "  'Spanish',\n",
       "  1916,\n",
       "  2007,\n",
       "  'Male',\n",
       "  1978,\n",
       "  'Prints & Illustrated Books'],\n",
       " ['Tailpiece (page 55) from SAGESSE',\n",
       "  'Maurice Denis',\n",
       "  'French',\n",
       "  1870,\n",
       "  1943,\n",
       "  'Male',\n",
       "  1900,\n",
       "  'Prints & Illustrated Books']]"
      ]
     },
     "execution_count": 13,
     "metadata": {},
     "output_type": "execute_result"
    }
   ],
   "source": [
    "moma[0:3] "
   ]
  },
  {
   "cell_type": "markdown",
   "metadata": {},
   "source": [
    "# Preparing a CSV containing all of the data cleaning I performed, called artworks_clean.csv. "
   ]
  },
  {
   "cell_type": "code",
   "execution_count": 14,
   "metadata": {},
   "outputs": [],
   "source": [
    "import csv\n",
    "f = open(\"artworks_clean.csv\", \"w\",newline= \"\",encoding=\"utf-8\")\n",
    "writer = csv.writer(f, delimiter = \",\")\n",
    "writer.writerow(moma_header)\n",
    "for item in moma:\n",
    "    writer.writerow(item)"
   ]
  },
  {
   "cell_type": "code",
   "execution_count": 15,
   "metadata": {},
   "outputs": [
    {
     "data": {
      "text/plain": [
       "[['Title',\n",
       "  'Artist',\n",
       "  'Nationality',\n",
       "  'BeginDate',\n",
       "  'EndDate',\n",
       "  'Gender',\n",
       "  'Date',\n",
       "  'Department'],\n",
       " ['Dress MacLeod from Tartan Sets',\n",
       "  'Sarah Charlesworth',\n",
       "  'American',\n",
       "  '1947',\n",
       "  '2013',\n",
       "  'Female',\n",
       "  '1986',\n",
       "  'Prints & Illustrated Books'],\n",
       " ['Duplicate of plate from folio 11 verso (supplementary suite, plate 4) from ARDICIA',\n",
       "  'Pablo Palazuelo',\n",
       "  'Spanish',\n",
       "  '1916',\n",
       "  '2007',\n",
       "  'Male',\n",
       "  '1978',\n",
       "  'Prints & Illustrated Books']]"
      ]
     },
     "execution_count": 15,
     "metadata": {},
     "output_type": "execute_result"
    }
   ],
   "source": [
    "from csv import reader\n",
    "\n",
    "moma = list(reader(open(\"artworks_clean.csv\", encoding = \"utf-8\")))\n",
    "moma[0:3]\n"
   ]
  },
  {
   "cell_type": "code",
   "execution_count": null,
   "metadata": {},
   "outputs": [],
   "source": []
  },
  {
   "cell_type": "code",
   "execution_count": null,
   "metadata": {},
   "outputs": [],
   "source": []
  }
 ],
 "metadata": {
  "kernelspec": {
   "display_name": "Python 3",
   "language": "python",
   "name": "python3"
  },
  "language_info": {
   "codemirror_mode": {
    "name": "ipython",
    "version": 3
   },
   "file_extension": ".py",
   "mimetype": "text/x-python",
   "name": "python",
   "nbconvert_exporter": "python",
   "pygments_lexer": "ipython3",
   "version": "3.7.1"
  }
 },
 "nbformat": 4,
 "nbformat_minor": 2
}
