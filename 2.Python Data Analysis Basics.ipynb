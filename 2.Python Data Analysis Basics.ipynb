{
 "cells": [
  {
   "cell_type": "markdown",
   "metadata": {},
   "source": [
    "So that we don't have to re-clean the data, we have prepared a CSV containing all of the data cleaning we performed, called artworks_clean.csv. Even though we converted the numeric columns to integer types in the previous project, when we saved the results as a CSV, they became text data again:\n",
    "\n",
    "Even though we don't have to clean the data again, we do have to convert these values to numeric types so we can analyze them."
   ]
  },
  {
   "cell_type": "code",
   "execution_count": 1,
   "metadata": {},
   "outputs": [],
   "source": [
    "from csv import reader\n",
    "\n",
    "moma = list(reader(open(\"artworks_clean.csv\", encoding = \"utf-8\")))\n",
    "moma = moma[1:]\n"
   ]
  },
  {
   "cell_type": "code",
   "execution_count": 2,
   "metadata": {},
   "outputs": [],
   "source": [
    "# Convert the birthdate values\n",
    "for row in moma:\n",
    "    birth_date = row[3]\n",
    "    if birth_date != \"\":\n",
    "        birth_date = int(birth_date)\n",
    "    row[3] = birth_date\n",
    "    \n",
    "# Convert the death date values\n",
    "for row in moma:\n",
    "    death_date = row[4]\n",
    "    if death_date != \"\":\n",
    "        death_date = int(death_date)\n",
    "    row[4] = death_date"
   ]
  },
  {
   "cell_type": "code",
   "execution_count": 3,
   "metadata": {},
   "outputs": [],
   "source": [
    "# Convert the Date values\n",
    "for item in moma:\n",
    "    date = item[6]\n",
    "    if date != \"\":\n",
    "        date = int(date)\n",
    "    item[6] = date\n",
    "    "
   ]
  },
  {
   "cell_type": "code",
   "execution_count": 4,
   "metadata": {},
   "outputs": [],
   "source": [
    "# calculate the age at the time of artwork was produced\n",
    "ages = []\n",
    "\n",
    "for item in moma:\n",
    "    date = item[6]\n",
    "    birth = item[3]\n",
    "    if type(birth) == int:\n",
    "        age = date - birth\n",
    "    else: # date has some empty values\n",
    "        age = 0\n",
    "    ages.append(age)\n",
    "\n"
   ]
  },
  {
   "cell_type": "code",
   "execution_count": 5,
   "metadata": {},
   "outputs": [],
   "source": [
    "final_ages = []\n",
    "\n",
    "\n",
    "for age in ages:\n",
    "    if age > 20:\n",
    "        final_age = age\n",
    "    else:\n",
    "        final_age = \"Unknown\"\n",
    "    final_ages.append(final_age)\n",
    "\n"
   ]
  },
  {
   "cell_type": "code",
   "execution_count": 7,
   "metadata": {},
   "outputs": [],
   "source": [
    "# Simplified final_ages to a list of \"decades\" so there are fewer unique values\n",
    "\n",
    "decades = []\n",
    "for age in final_ages:\n",
    "    if age is \"Unknown\": # \"is & not is\" are identity operator \n",
    "    # if age == \"Unknow\":   Alternative condition\n",
    "        decades.append(age)\n",
    "    else:\n",
    "   # elif if age is not \"Unkown\"\n",
    "        age = str(age)\n",
    "        age = age[:-1]\n",
    "        age = age + \"0s\"\n",
    "        decades.append(age)\n"
   ]
  },
  {
   "cell_type": "code",
   "execution_count": 8,
   "metadata": {},
   "outputs": [
    {
     "data": {
      "text/plain": [
       "{'30s': 4714,\n",
       " '60s': 1353,\n",
       " '70s': 558,\n",
       " '40s': 4073,\n",
       " '50s': 2426,\n",
       " '20s': 1853,\n",
       " 'Unknown': 1093,\n",
       " '90s': 252,\n",
       " '80s': 363,\n",
       " '100s': 3,\n",
       " '110s': 3}"
      ]
     },
     "execution_count": 8,
     "metadata": {},
     "output_type": "execute_result"
    }
   ],
   "source": [
    "# count how many instances of each decade there are;\n",
    "\n",
    "decade_frequency = {}\n",
    "\n",
    "for decade in decades:\n",
    "    if decade in decade_frequency:\n",
    "        decade_frequency[decade] += 1\n",
    "    else:\n",
    "        decade_frequency[decade] = 1\n",
    "        \n",
    "\n",
    "decade_frequency"
   ]
  },
  {
   "cell_type": "markdown",
   "metadata": {},
   "source": [
    "Most of what we've learned so far has been about cleaning and interpreting data stored in string form."
   ]
  },
  {
   "cell_type": "markdown",
   "metadata": {},
   "source": [
    "The str.format() method is a powerful tool that helps us write easy-to-read code while combining strings with other variables."
   ]
  },
  {
   "cell_type": "markdown",
   "metadata": {},
   "source": [
    "We use the method with a string — which acts as a template — using the brace characters ({}) to signify where we want any variables to be inserted. We then pass those variables as arguments to the method. "
   ]
  },
  {
   "cell_type": "code",
   "execution_count": 8,
   "metadata": {},
   "outputs": [
    {
     "name": "stdout",
     "output_type": "stream",
     "text": [
      "Pablo Picasso's birth year is 1881\n"
     ]
    }
   ],
   "source": [
    "artist = \"Pablo Picasso\"\n",
    "birth_year = 1881\n",
    "template = \"{name}'s birth year is {year}\"\n",
    "print(template.format(name= artist, year = birth_year))"
   ]
  },
  {
   "cell_type": "code",
   "execution_count": 9,
   "metadata": {},
   "outputs": [],
   "source": [
    "# creating a dictionary containing the counts of each artist's artworks\n",
    "artist_freq = {}\n",
    "\n",
    "for item in moma:\n",
    "    artist = item[1]\n",
    "    if artist in artist_freq:\n",
    "        artist_freq[artist] += 1\n",
    "    else:\n",
    "        artist_freq[artist] = 1\n",
    "        \n"
   ]
  },
  {
   "cell_type": "code",
   "execution_count": 10,
   "metadata": {},
   "outputs": [
    {
     "name": "stdout",
     "output_type": "stream",
     "text": [
      "There are 129 artworks by Henri Matisse in the data set\n"
     ]
    }
   ],
   "source": [
    "# Creating a function that displays information for a specific artist\n",
    "\n",
    "def artist_summary(artist):\n",
    "        num_artwork = artist_freq[artist]\n",
    "        template = \"There are {} artworks by {} in the data set\"\n",
    "        print(template.format(num_artwork,artist))\n",
    "            \n",
    "artist_summary(\"Henri Matisse\")"
   ]
  },
  {
   "cell_type": "code",
   "execution_count": 17,
   "metadata": {},
   "outputs": [
    {
     "name": "stdout",
     "output_type": "stream",
     "text": [
      "The population of China is 1,379.30 million\n",
      "The population of India is 1,281.94 million\n",
      "The population of USA is 326.63 million\n",
      "The population of Indonesia is 260.58 million\n",
      "The population of Brazil is 207.35 million\n"
     ]
    }
   ],
   "source": [
    "# formating a numbers\n",
    "\n",
    "pop_millions = [\n",
    "    [\"China\", 1379.302771],\n",
    "    [\"India\", 1281.935991],\n",
    "    [\"USA\",  326.625791],\n",
    "    [\"Indonesia\",  260.580739],\n",
    "    [\"Brazil\",  207.353391]]\n",
    "    \n",
    "template = \"The population of {} is {:,.2f} million\" # order should be maintained. comma comes first\n",
    "\n",
    "\n",
    "for i in pop_millions:\n",
    "    name = i[0]\n",
    "    pop = i[1]\n",
    "    print(template.format(name,pop))"
   ]
  },
  {
   "cell_type": "code",
   "execution_count": 19,
   "metadata": {},
   "outputs": [
    {
     "name": "stdout",
     "output_type": "stream",
     "text": [
      "There are 2,439 artworks by Female artists\n",
      "There are 13,461 artworks by Male artists\n",
      "There are 791 artworks by Gender Unknown/Other artists\n"
     ]
    }
   ],
   "source": [
    "# lets apply string formatting on data\n",
    "\n",
    "gender_freq = {}\n",
    "\n",
    "for item in moma:\n",
    "    gender = item[5]\n",
    "    \n",
    "    if gender in gender_freq:\n",
    "        gender_freq[gender] +=1\n",
    "    else:\n",
    "        gender_freq[gender] = 1\n",
    "        \n",
    "for key, value in gender_freq.items():\n",
    "    template  = \"There are {:,} artworks by {} artists\"\n",
    "    print(template.format(value,key))\n"
   ]
  },
  {
   "cell_type": "code",
   "execution_count": null,
   "metadata": {},
   "outputs": [],
   "source": []
  }
 ],
 "metadata": {
  "kernelspec": {
   "display_name": "Python 3",
   "language": "python",
   "name": "python3"
  },
  "language_info": {
   "codemirror_mode": {
    "name": "ipython",
    "version": 3
   },
   "file_extension": ".py",
   "mimetype": "text/x-python",
   "name": "python",
   "nbconvert_exporter": "python",
   "pygments_lexer": "ipython3",
   "version": "3.7.3"
  }
 },
 "nbformat": 4,
 "nbformat_minor": 2
}
